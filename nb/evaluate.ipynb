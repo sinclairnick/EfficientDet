{
 "cells": [
  {
   "cell_type": "code",
   "execution_count": 10,
   "metadata": {},
   "outputs": [
    {
     "output_type": "stream",
     "name": "stdout",
     "text": "Color Results:\n    precision  recall  categorical_accuracy\n0   0.142857     0.1                   0.3\nClass Results:\n    precision  recall  categorical_accuracy\n0        0.9     0.9                   0.9\n"
    }
   ],
   "source": [
    "import os\n",
    "os.chdir('/Users/nick/Documents/school/research/EfficientLPR')\n",
    "import argparse\n",
    "import pandas as pd\n",
    "import tensorflow as tf\n",
    "class Arg:\n",
    "    classes_path = 'data/processed/classes.csv'\n",
    "    colors_path = 'data/processed/colors.csv'\n",
    "    predictions_path = 'predictions.csv'\n",
    "    annotations_path = 'data/processed/stanford-cars/test_annotations.csv'\n",
    "args = Arg()\n",
    "\n",
    "classes = [x[0] for x in pd.read_csv(args.classes_path, header=None).values]\n",
    "colors = [x[0] for x in pd.read_csv(args.colors_path, header=None).values]\n",
    "\n",
    "class_labels = {x: i for i, x in enumerate(classes)}\n",
    "color_labels = {x: i for i, x in enumerate(colors)}\n",
    "\n",
    "gt_data = pd.read_csv(args.annotations_path, header=None)\n",
    "gt_data.columns = ['file', 'x1', 'y1', 'x2', 'y2', 'body', 'color']\n",
    "vehicle_data = pd.read_csv(args.predictions_path)\n",
    "\n",
    "# assert headers are same order as classes/colors\n",
    "color_headers = [x for x in vehicle_data.columns if x.startswith('color')]\n",
    "class_headers = [x for x in vehicle_data.columns if x.startswith('body')]\n",
    "assert all([x == color_headers[i].split('/')[1] for i,x in enumerate(colors)])\n",
    "assert all([x == class_headers[i].split('/')[1] for i,x in enumerate(classes)])\n",
    "\n",
    "\n",
    "class Metric:\n",
    "    def __init__(self):\n",
    "        self.precision = tf.metrics.Precision()\n",
    "        self.recall = tf.metrics.Recall()\n",
    "        self.categorical_accuracy = tf.metrics.CategoricalAccuracy()\n",
    "    def update_state(self, y_true, y_pred):\n",
    "        self.precision.update_state(y_true, y_pred)\n",
    "        self.recall.update_state(y_true, y_pred)\n",
    "        self.categorical_accuracy.update_state(y_true, y_pred)\n",
    "    def result(self):\n",
    "        return pd.DataFrame({\n",
    "            'precision': [self.precision.result().numpy()],\n",
    "            'recall': [self.recall.result().numpy()],\n",
    "            'categorical_accuracy': [self.categorical_accuracy.result().numpy()]\n",
    "        })\n",
    "color_metric = Metric()\n",
    "class_metric = Metric()\n",
    "\n",
    "# calculate performance metrics\n",
    "for i in range(len(vehicle_data)):\n",
    "    predicted = vehicle_data.iloc[i]\n",
    "    ground = gt_data.iloc[i]\n",
    "    ground_class_label = class_labels[ground[\"body\"]]\n",
    "    ground_color_label = color_labels[ground['color']]\n",
    "    assert predicted[['file']].values[0].split('/')[-1] == ground[['file']].values[0].split('/')[-1]\n",
    "    class_true = tf.one_hot(ground_class_label, depth=len(class_labels))\n",
    "    color_true = tf.one_hot(ground_color_label, depth=len(color_labels))\n",
    "    class_metric.update_state(class_true, predicted[class_headers])\n",
    "    color_metric.update_state(color_true, predicted[color_headers])\n",
    "\n",
    "print('Color Results:\\n', color_metric.result())\n",
    "print('Class Results:\\n', class_metric.result())"
   ]
  },
  {
   "cell_type": "code",
   "execution_count": null,
   "metadata": {},
   "outputs": [],
   "source": []
  }
 ],
 "metadata": {
  "language_info": {
   "codemirror_mode": {
    "name": "ipython",
    "version": 3
   },
   "file_extension": ".py",
   "mimetype": "text/x-python",
   "name": "python",
   "nbconvert_exporter": "python",
   "pygments_lexer": "ipython3",
   "version": "3.7.6-final"
  },
  "orig_nbformat": 2,
  "kernelspec": {
   "name": "python37664bitanaconda3virtualenvc7eb3ab0ecc14188bea54639f0fd4b91",
   "display_name": "Python 3.7.6 64-bit ('anaconda3': virtualenv)"
  }
 },
 "nbformat": 4,
 "nbformat_minor": 2
}