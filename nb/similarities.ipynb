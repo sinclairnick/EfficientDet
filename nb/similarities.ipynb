{
 "cells": [
  {
   "cell_type": "code",
   "execution_count": 1,
   "metadata": {},
   "outputs": [],
   "source": [
    "import os\n",
    "os.chdir('/Users/nick/Documents/school/research/EfficientLPR')\n",
    "import pandas as pd\n",
    "import numpy as np\n",
    "import tensorflow as tf\n",
    "from sklearn.ensemble import RandomForestClassifier\n",
    "from sklearn.discriminant_analysis import LinearDiscriminantAnalysis\n",
    "from sklearn import svm\n",
    "from rapidfuzz import fuzz\n",
    "import pickle"
   ]
  },
  {
   "cell_type": "code",
   "execution_count": 2,
   "metadata": {},
   "outputs": [],
   "source": [
    "def get_l2_norm(y_trues, y_preds):\n",
    "    distances = []\n",
    "    for i in range(len(y_preds)): # calculate euclidian distance between preds and answer\n",
    "        y_true, y_pred = y_trues[i], y_preds[i]\n",
    "        distances.append(np.linalg.norm(y_true - y_pred))\n",
    "    return np.expand_dims(distances,1)\n",
    "\n",
    "def get_lev_distance(y_true, y_preds):\n",
    "    lev_distances = []\n",
    "    for row in np.hstack([np.expand_dims(y_preds, 1), np.expand_dims(y_true, 1)]):\n",
    "        lev_distances.append(fuzz.ratio(row[0], row[1]))\n",
    "    return np.expand_dims(lev_distances,1)"
   ]
  },
  {
   "cell_type": "code",
   "execution_count": 3,
   "metadata": {
    "tags": [
     "outputPrepend"
    ]
   },
   "outputs": [
    {
     "output_type": "stream",
     "name": "stdout",
     "text": "LP Exact Accuracy: 0.74%\n"
    }
   ],
   "source": [
    "\"\"\"\n",
    "Script that transforms the predictions into three features:\n",
    "    lp_distance: a similarity metric representing the levenshtein distance between true and predicted LP\n",
    "    body_distance: distance between true and predicted body\n",
    "    color_distance: distance between true and predicted color\n",
    "\n",
    "\"\"\"\n",
    "test = True\n",
    "\n",
    "predictions_path = f'predictions_nzvd_{\"test\" if test else \"train\"}.full.csv'\n",
    "trues_path = f'data/processed/nzvd/{\"test\" if test else \"train\"}_annotations.csv'\n",
    "lps_path = f'data/raw/nzvd/{\"test\" if test else \"train\"}_labels.csv'\n",
    "classes_path = 'data/processed/classes.csv'\n",
    "colors_path = 'data/processed/colors.csv'\n",
    "\n",
    "# get class data\n",
    "classes = [x[0] for x in pd.read_csv(classes_path, header=None).values]\n",
    "colors = [x[0] for x in pd.read_csv(colors_path, header=None).values]\n",
    "class_labels = {x:i for i,x in enumerate(classes)}\n",
    "color_labels = {x:i for i,x in enumerate(colors)}\n",
    "\n",
    "# get y_pred \n",
    "preds = pd.read_csv(predictions_path)\n",
    "preds = preds.fillna('') # fill NaN values with empty string\n",
    "\n",
    "# get y_true\n",
    "lps = pd.read_csv(lps_path)[['lp-string']].T.squeeze()\n",
    "lps = lps.apply(lambda x: str(x).replace(' ', ''))\n",
    "trues = pd.read_csv(trues_path, header=None)\n",
    "if 'train' in trues_path:\n",
    "    trues = pd.concat([trues, pd.read_csv(trues_path.replace('train', 'val'), header=None)])\n",
    "trues.columns = ['file', 't', 'l', 'h', 'w', 'body', 'color']\n",
    "trues = trues.sort_values(by=['file'])\n",
    "trues.reset_index(inplace=True)\n",
    "trues = trues.assign(lp=lps)\n",
    "\n",
    "\n",
    "# LICENSE PLATES    \n",
    "lp_true, lp_pred = trues[['lp']].values.squeeze(), preds[['lp']].values.squeeze()\n",
    "lp_acc = np.mean([lp_true == lp_pred])\n",
    "print(\"LP Exact Accuracy:\", f'{lp_acc}%', )\n",
    "\n",
    "def featurize(trues, preds):\n",
    "    \"\"\"Converts [preds, true] into [levenshtein distance, CCE_body, CCE_color]\"\"\"\n",
    "\n",
    "    # levenshtein distance of license plates\n",
    "    lev_distances = get_lev_distance(trues[['lp']].values.squeeze(), preds[['lp']].values.squeeze())\n",
    "\n",
    "    # BODY\n",
    "    body_true = list(map(lambda x: class_labels[x], trues[['body']].values.squeeze().tolist()))\n",
    "    body_true = tf.one_hot(body_true, depth=len(class_labels))\n",
    "    body_headers = [header for header in preds.columns if header.startswith('body')]\n",
    "    body_pred = preds[body_headers].values\n",
    "    body_cce = np.expand_dims(tf.losses.categorical_crossentropy(body_true, body_pred).numpy(), 1)\n",
    "\n",
    "    # COLOR\n",
    "    color_true = list(map(lambda x: color_labels[x], trues[['color']].values.squeeze().tolist()))\n",
    "    color_true = tf.one_hot(color_true, depth=len(color_labels))\n",
    "    color_headers = [header for header in preds.columns if header.startswith('color')]\n",
    "    color_pred = preds[color_headers].values\n",
    "    color_cce = np.expand_dims(tf.losses.categorical_crossentropy(color_true, color_pred).numpy(), 1)\n",
    "\n",
    "    return [lev_distances, body_cce, color_cce]\n",
    "\n",
    "y_positive = np.expand_dims(np.repeat([1], len(preds)), 1) # positive samples have class==1\n",
    "y_negative = np.expand_dims(np.repeat([0], len(preds)),1) # negative samples have class==0\n",
    "x_positive = np.hstack([*featurize(trues, preds)])\n",
    "x_negative = np.hstack([*featurize(trues, preds.sample(frac=1))]) # use shuffled preds for negative samples\n",
    "x = np.vstack([x_positive, x_negative])\n",
    "y = np.vstack([y_positive, y_negative])"
   ]
  },
  {
   "cell_type": "code",
   "execution_count": 6,
   "metadata": {},
   "outputs": [],
   "source": [
    "OUT_DIR = 'classifiers'\n",
    "import joblib\n",
    "\n",
    "if not test:\n",
    "    print('saving classifiers')\n",
    "\n",
    "    # LDA\n",
    "    lda_classifier = LinearDiscriminantAnalysis(solver=\"lsqr\")\n",
    "    lda_classifier = lda_classifier.fit(x,y)\n",
    "\n",
    "    # SVM\n",
    "    svm_classifier = svm.SVC()\n",
    "    svm_classifier = svm_classifier.fit(x, y)\n",
    "\n",
    "    # Random Forest\n",
    "    rf_classifier = RandomForestClassifier()\n",
    "    rf_classifier = rf_classifier.fit(x,y)\n",
    "\n",
    "    if not os.path.exists(OUT_DIR):\n",
    "        os.mkdir(OUT_DIR)\n",
    "\n",
    "    # pickle models\n",
    "    def save_classifier(clf, name):\n",
    "        joblib.dump(clf ,open(OUT_DIR + '/' + name + '.joblib', 'wb'))\n",
    "\n",
    "    save_classifier(lda_classifier, 'LDA')\n",
    "    save_classifier(svm_classifier, 'SVM')\n",
    "    save_classifier(rf_classifier, 'RF')"
   ]
  },
  {
   "cell_type": "code",
   "execution_count": 40,
   "metadata": {
    "tags": [
     "outputPrepend"
    ]
   },
   "outputs": [
    {
     "output_type": "stream",
     "name": "stdout",
     "text": "LDA acc 0.98\nSVM acc 0.97\nRF acc 0.94\n"
    }
   ],
   "source": [
    "def load_classifier(name):\n",
    "    return joblib.load(OUT_DIR + '/' + name + '.joblib')\n",
    "lda = load_classifier('LDA')\n",
    "svm = load_classifier('SVM')\n",
    "rf = load_classifier('RF')\n",
    "\n",
    "lda_accs = []\n",
    "svm_accs = []\n",
    "rf_accs = []\n",
    "\n",
    "import time\n",
    "s = time.time()\n",
    "# compare each prediction against entire GT \"database\"\n",
    "for i, prediction in enumerate(preds.iloc):\n",
    "    # initialize y_array\n",
    "    y_true = np.zeros(len(trues))\n",
    "    # set single true match\n",
    "    y_true[i] = 1\n",
    "    # repeat sample\n",
    "    colnames = prediction.index.values\n",
    "    prediction = prediction.values\n",
    "    x_pred = [prediction for _ in range(len(trues))]\n",
    "    x_pred = pd.DataFrame(x_pred)\n",
    "    x_pred.columns = colnames\n",
    "\n",
    "    # compare sample against all samples\n",
    "    x_pred = featurize(trues, x_pred)\n",
    "    x_pred = np.array(x_pred)\n",
    "    x_pred = x_pred.reshape(100,3)\n",
    "\n",
    "    # LDA\n",
    "    lda_pred = lda.predict(x_pred)\n",
    "    lda_acc = np.mean(lda_pred == y_true)\n",
    "\n",
    "    # SVM\n",
    "    svm_pred = svm.predict(x_pred)\n",
    "    svm_acc = np.mean(svm_pred == y_true)\n",
    "\n",
    "    # RF\n",
    "    rf_pred = rf.predict(x_pred)\n",
    "    rf_acc = np.mean(rf_pred == y_true)\n",
    "\n",
    "    lda_accs.append(lda_acc)\n",
    "    svm_accs.append(svm_acc)\n",
    "    rf_accs.append(rf_acc)\n",
    "\n",
    "print(\"LDA acc\", lda_acc)\n",
    "print(\"SVM acc\", svm_acc)\n",
    "print(\"RF acc\", rf_acc)\n"
   ]
  },
  {
   "cell_type": "code",
   "execution_count": null,
   "metadata": {},
   "outputs": [],
   "source": []
  },
  {
   "cell_type": "code",
   "execution_count": null,
   "metadata": {},
   "outputs": [],
   "source": []
  },
  {
   "cell_type": "code",
   "execution_count": 68,
   "metadata": {},
   "outputs": [
    {
     "output_type": "stream",
     "name": "stdout",
     "text": "index              37\nfile     test/397.jpg\nt                  44\nl                 104\nh                 392\nw                 327\nbody        hatchback\ncolor             red\nlp             HDE283\nName: 2, dtype: object\n"
    }
   ],
   "source": [
    "sample = trues.iloc[1]"
   ]
  }
 ],
 "metadata": {
  "language_info": {
   "codemirror_mode": {
    "name": "ipython",
    "version": 3
   },
   "file_extension": ".py",
   "mimetype": "text/x-python",
   "name": "python",
   "nbconvert_exporter": "python",
   "pygments_lexer": "ipython3",
   "version": "3.7.6-final"
  },
  "orig_nbformat": 2,
  "kernelspec": {
   "name": "python37664bitanaconda3virtualenvc7eb3ab0ecc14188bea54639f0fd4b91",
   "display_name": "Python 3.7.6 64-bit ('anaconda3': virtualenv)"
  }
 },
 "nbformat": 4,
 "nbformat_minor": 2
}