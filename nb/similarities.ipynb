{
 "cells": [
  {
   "cell_type": "code",
   "execution_count": 9,
   "metadata": {},
   "outputs": [],
   "source": [
    "import os\n",
    "os.chdir('/Users/nick/Documents/school/research/EfficientLPR')\n",
    "import pandas as pd\n",
    "import numpy as np\n",
    "import tensorflow as tf\n",
    "from sklearn.ensemble import RandomForestClassifier\n",
    "from rapidfuzz import fuzz"
   ]
  },
  {
   "cell_type": "code",
   "execution_count": 87,
   "metadata": {
    "tags": [
     "outputPrepend"
    ]
   },
   "outputs": [
    {
     "output_type": "stream",
     "name": "stdout",
     "text": "LP Exact Accuracy: 0.7%\n[[1.2253700e-02]\n [1.3626155e-01]\n [6.8777655e-03]\n [1.1095041e+00]\n [2.5311399e-01]\n [5.7137853e-01]\n [1.4138515e+00]\n [1.1935792e+00]\n [1.3437393e+00]\n [4.4943103e-01]\n [1.2161180e+00]\n [1.4139557e+00]\n [1.4128063e+00]\n [4.0506441e-04]\n [1.3334696e+00]\n [5.6742471e-01]\n [1.4026563e+00]\n [8.4616220e-01]\n [1.3915608e+00]\n [1.1883125e+00]\n [1.2650239e+00]\n [1.3014051e+00]\n [1.3099039e+00]\n [4.4022897e-01]\n [1.3723917e+00]\n [1.3534169e+00]\n [1.1695337e+00]\n [2.5761637e-01]\n [3.1474105e-03]\n [4.7503848e-02]\n [9.8148686e-01]\n [8.7894446e-01]\n [1.2236258e+00]\n [1.1954485e+00]\n [1.3789237e+00]\n [1.2060877e+00]\n [1.4123561e+00]\n [1.0692899e+00]\n [9.0373141e-01]\n [1.3096752e+00]\n [1.0466224e+00]\n [1.9370592e-01]\n [9.2638516e-01]\n [2.0723005e-01]\n [1.4090786e+00]\n [3.3809838e-01]\n [1.4139956e+00]\n [1.4125915e+00]\n [1.0702970e+00]\n [3.8935542e-01]\n [3.8103533e-01]\n [1.0593280e+00]\n [3.1715930e-02]\n [4.3086624e-01]\n [1.4665969e-01]\n [1.4142076e+00]\n [1.2852143e+00]\n [3.0811429e-01]\n [3.8226988e-02]\n [1.2525440e+00]\n [3.7103194e-01]\n [8.6805707e-01]\n [5.0482064e-01]\n [5.9764583e-02]\n [5.6748736e-01]\n [1.0512007e+00]\n [1.1288579e+00]\n [1.4140062e+00]\n [8.1068784e-01]\n [4.6181165e-02]\n [1.1725394e-01]\n [9.2051184e-01]\n [1.3285027e+00]\n [1.4016370e+00]\n [1.1799146e+00]\n [1.7883685e-01]\n [8.6722463e-01]\n [2.9606101e-01]\n [7.8250331e-01]\n [4.4641221e-01]\n [1.3075790e+00]\n [1.2656784e-01]\n [1.1067607e+00]\n [1.3951700e+00]\n [1.0311166e+00]\n [1.3187015e+00]\n [1.3304617e+00]\n [1.2431817e+00]\n [1.2043607e+00]\n [1.3564777e+00]\n [4.7093383e-03]\n [8.4106815e-01]\n [1.2089911e+00]\n [1.3711230e+00]\n [1.2343632e+00]\n [1.1051816e+00]\n [1.1625922e+00]\n [2.1722961e-02]\n [1.3912146e+00]\n [9.1650500e-04]]\n"
    }
   ],
   "source": [
    "\"\"\"\n",
    "Script that transforms the predictions into three features:\n",
    "    lp_distance: a similarity metric representing the levenshtein distance between true and predicted LP\n",
    "    body_distance: distance between true and predicted body\n",
    "    color_distance: distance between true and predicted color\n",
    "For all three features, higher value indicates a worse prediction\n",
    "\"\"\"\n",
    "\n",
    "predictions_path = 'predictions_phi0_nzvd.full.csv'\n",
    "trues_path = 'data/processed/nzvd/test_annotations.csv'\n",
    "lps_path = 'data/raw/nzvd/test_labels.csv'\n",
    "classes_path = 'data/processed/classes.csv'\n",
    "colors_path = 'data/processed/colors.csv'\n",
    "\n",
    "# get class data\n",
    "classes = [x[0] for x in pd.read_csv(classes_path, header=None).values]\n",
    "colors = [x[0] for x in pd.read_csv(colors_path, header=None).values]\n",
    "class_labels = {x:i for i,x in enumerate(classes)}\n",
    "color_labels = {x:i for i,x in enumerate(colors)}\n",
    "\n",
    "# get y_pred and y_true\n",
    "preds = pd.read_csv(predictions_path)\n",
    "preds = preds.fillna('') # fill NaN values with empty string\n",
    "lps = pd.read_csv(lps_path)[['lp-string']].T.squeeze()\n",
    "lps = lps.str.strip() # trim leading spaces\n",
    "trues = pd.read_csv(trues_path, header=None)\n",
    "trues.columns = ['file', 't', 'l', 'h', 'w', 'body', 'color']\n",
    "\n",
    "# improve y_true structure\n",
    "trues = trues.sort_values(by=['file'])\n",
    "trues.reset_index(inplace=True)\n",
    "trues = trues.assign(lp=lps)\n",
    "\n",
    "# license plates\n",
    "lp_true, lp_pred = trues[['lp']].values.squeeze(), preds[['lp']].values.squeeze()\n",
    "lp_acc = np.mean([lp_true == lp_pred])\n",
    "print(\"LP Exact Accuracy:\", f'{lp_acc}%', )\n",
    "\n",
    "lev_distances = []\n",
    "for row in np.hstack([np.expand_dims(lp_pred, 1), np.expand_dims(lp_true, 1)]):\n",
    "    lev_distances.append(fuzz.ratio(row[0], row[1]))\n",
    "\n",
    "# body\n",
    "body_true = list(map(lambda x: class_labels[x], trues[['body']].values.squeeze().tolist()))\n",
    "body_true = tf.one_hot(body_true, depth=len(class_labels))\n",
    "body_headers = [header for header in preds.columns if header.startswith('body')]\n",
    "body_pred = preds[body_headers].values\n",
    "\n",
    "body_distances = []\n",
    "for i in range(len(body_pred)): # calculate euclidian distance between preds and answer\n",
    "    y_true, y_pred = body_true[i], body_pred[i]\n",
    "    body_distances.append(np.linalg.norm(y_true - y_pred))\n",
    "\n",
    "# color\n",
    "color_true = list(map(lambda x: color_labels[x], trues[['color']].values.squeeze().tolist()))\n",
    "color_true = tf.one_hot(color_true, depth=len(color_labels))\n",
    "color_headers = [header for header in preds.columns if header.startswith('color')]\n",
    "color_pred = preds[color_headers].values\n",
    "\n",
    "color_distances = []\n",
    "for i in range(len(color_pred)): # calculate euclidian distance between preds and answer\n",
    "    y_true, y_pred = color_true[i], color_pred[i]\n",
    "    color_distances.append(np.linalg.norm(y_true - y_pred))\n",
    "color_distances = np.expand_dims(color_distances, 1)\n",
    "\n"
   ]
  }
 ],
 "metadata": {
  "language_info": {
   "codemirror_mode": {
    "name": "ipython",
    "version": 3
   },
   "file_extension": ".py",
   "mimetype": "text/x-python",
   "name": "python",
   "nbconvert_exporter": "python",
   "pygments_lexer": "ipython3",
   "version": "3.7.6-final"
  },
  "orig_nbformat": 2,
  "kernelspec": {
   "name": "python37664bitanaconda3virtualenvc7eb3ab0ecc14188bea54639f0fd4b91",
   "display_name": "Python 3.7.6 64-bit ('anaconda3': virtualenv)"
  }
 },
 "nbformat": 4,
 "nbformat_minor": 2
}