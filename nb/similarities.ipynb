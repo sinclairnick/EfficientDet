{
 "cells": [
  {
   "cell_type": "code",
   "execution_count": 54,
   "metadata": {},
   "outputs": [],
   "source": [
    "import os\n",
    "os.chdir('/Users/nick/Documents/school/research/EfficientLPR')\n",
    "import pandas as pd\n",
    "import numpy as np\n",
    "import tensorflow as tf\n",
    "from sklearn.ensemble import RandomForestClassifier\n",
    "from sklearn.discriminant_analysis import LinearDiscriminantAnalysis\n",
    "from sklearn import svm\n",
    "from rapidfuzz import fuzz\n",
    "import pickle"
   ]
  },
  {
   "cell_type": "code",
   "execution_count": 34,
   "metadata": {},
   "outputs": [],
   "source": [
    "def get_l2_norm(y_trues, y_preds):\n",
    "    distances = []\n",
    "    for i in range(len(y_preds)): # calculate euclidian distance between preds and answer\n",
    "        y_true, y_pred = y_trues[i], y_preds[i]\n",
    "        distances.append(np.linalg.norm(y_true - y_pred))\n",
    "    return np.expand_dims(distances,1)\n",
    "\n",
    "def get_lev_distance(y_true, y_preds):\n",
    "    lev_distances = []\n",
    "    for row in np.hstack([np.expand_dims(y_preds, 1), np.expand_dims(y_true, 1)]):\n",
    "        lev_distances.append(fuzz.ratio(row[0], row[1]))\n",
    "    return np.expand_dims(lev_distances,1)"
   ]
  },
  {
   "cell_type": "code",
   "execution_count": 39,
   "metadata": {
    "tags": [
     "outputPrepend"
    ]
   },
   "outputs": [
    {
     "output_type": "stream",
     "name": "stdout",
     "text": "LP Exact Accuracy: 0.7%\n"
    }
   ],
   "source": [
    "\"\"\"\n",
    "Script that transforms the predictions into three features:\n",
    "    lp_distance: a similarity metric representing the levenshtein distance between true and predicted LP\n",
    "    body_distance: distance between true and predicted body\n",
    "    color_distance: distance between true and predicted color\n",
    "\n",
    "\"\"\"\n",
    "\n",
    "predictions_path = 'predictions_phi0_nzvd.full.csv'\n",
    "trues_path = 'data/processed/nzvd/test_annotations.csv'\n",
    "lps_path = 'data/raw/nzvd/test_labels.csv'\n",
    "classes_path = 'data/processed/classes.csv'\n",
    "colors_path = 'data/processed/colors.csv'\n",
    "\n",
    "# get class data\n",
    "classes = [x[0] for x in pd.read_csv(classes_path, header=None).values]\n",
    "colors = [x[0] for x in pd.read_csv(colors_path, header=None).values]\n",
    "class_labels = {x:i for i,x in enumerate(classes)}\n",
    "color_labels = {x:i for i,x in enumerate(colors)}\n",
    "\n",
    "# get y_pred \n",
    "preds = pd.read_csv(predictions_path)\n",
    "preds = preds.fillna('') # fill NaN values with empty string\n",
    "\n",
    "# get y_true\n",
    "lps = pd.read_csv(lps_path)[['lp-string']].T.squeeze()\n",
    "lps = lps.str.strip() # trim leading spaces\n",
    "trues = pd.read_csv(trues_path, header=None)\n",
    "trues.columns = ['file', 't', 'l', 'h', 'w', 'body', 'color']\n",
    "trues = trues.sort_values(by=['file'])\n",
    "trues.reset_index(inplace=True)\n",
    "trues = trues.assign(lp=lps)\n",
    "\n",
    "# LICENSE PLATES    \n",
    "lp_true, lp_pred = trues[['lp']].values.squeeze(), preds[['lp']].values.squeeze()\n",
    "lp_acc = np.mean([lp_true == lp_pred])\n",
    "print(\"LP Exact Accuracy:\", f'{lp_acc}%', )\n",
    "\n",
    "def featurize(trues, preds):\n",
    "    \"\"\"Converts [preds, true] into [levenshtein distance, CCE_body, CCE_color]\"\"\"\n",
    "\n",
    "    # levenshtein distance of license plates\n",
    "    lev_distances = get_lev_distance(trues[['lp']].values.squeeze(), preds[['lp']].values.squeeze())\n",
    "\n",
    "    # BODY\n",
    "    body_true = list(map(lambda x: class_labels[x], trues[['body']].values.squeeze().tolist()))\n",
    "    body_true = tf.one_hot(body_true, depth=len(class_labels))\n",
    "    body_headers = [header for header in preds.columns if header.startswith('body')]\n",
    "    body_pred = preds[body_headers].values\n",
    "    body_cce = np.expand_dims(tf.losses.categorical_crossentropy(body_true, body_pred).numpy(), 1)\n",
    "\n",
    "    # COLOR\n",
    "    color_true = list(map(lambda x: color_labels[x], trues[['color']].values.squeeze().tolist()))\n",
    "    color_true = tf.one_hot(color_true, depth=len(color_labels))\n",
    "    color_headers = [header for header in preds.columns if header.startswith('color')]\n",
    "    color_pred = preds[color_headers].values\n",
    "    color_cce = np.expand_dims(tf.losses.categorical_crossentropy(color_true, color_pred).numpy(), 1)\n",
    "\n",
    "    return [lev_distances, body_cce, color_cce]\n",
    "\n",
    "y_positive = np.expand_dims(np.repeat([1], len(preds)), 1) # positive samples have class==1\n",
    "y_negative = np.expand_dims(np.repeat([0], len(preds)),1) # negative samples have class==0\n",
    "x_positive = np.hstack([*featurize(trues, preds)])\n",
    "x_negative = np.hstack([*featurize(trues, preds.sample(frac=1))]) # use shuffled preds for negative samples\n",
    "x = np.vstack([x_positive, x_negative])\n",
    "y = np.vstack([y_positive, y_negative])"
   ]
  },
  {
   "cell_type": "code",
   "execution_count": 53,
   "metadata": {},
   "outputs": [],
   "source": [
    "# compare methods\n",
    "\n",
    "# LDA\n",
    "lda_classifier = LinearDiscriminantAnalysis(solver=\"lsqr\")\n",
    "lda_classifier = lda_classifier.fit(x,y)\n",
    "\n",
    "# SVM\n",
    "svm_classifier = svm.SVC()\n",
    "svm_classifier = svm_classifier.fit(x, y)\n",
    "\n",
    "# Random Forest\n",
    "rf_classifier = RandomForestClassifier()\n",
    "rf_classifier = rf_classifier.fit(x,y)\n",
    "\n",
    "# evaluate models on test data\n",
    "\n",
    "\n",
    "# pickle models\n",
    "def save_classifier(clf, name):\n",
    "    pickle.dumps(clf ,open(name + '.p', 'wb'))"
   ]
  }
 ],
 "metadata": {
  "language_info": {
   "codemirror_mode": {
    "name": "ipython",
    "version": 3
   },
   "file_extension": ".py",
   "mimetype": "text/x-python",
   "name": "python",
   "nbconvert_exporter": "python",
   "pygments_lexer": "ipython3",
   "version": "3.7.6-final"
  },
  "orig_nbformat": 2,
  "kernelspec": {
   "name": "python37664bitanaconda3virtualenvc7eb3ab0ecc14188bea54639f0fd4b91",
   "display_name": "Python 3.7.6 64-bit ('anaconda3': virtualenv)"
  }
 },
 "nbformat": 4,
 "nbformat_minor": 2
}