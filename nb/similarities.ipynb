{
 "cells": [
  {
   "cell_type": "code",
   "execution_count": 127,
   "metadata": {},
   "outputs": [],
   "source": [
    "import os\n",
    "os.chdir('/Users/nick/Documents/school/research/EfficientLPR')\n",
    "import pandas as pd\n",
    "import numpy as np\n",
    "import tensorflow as tf"
   ]
  },
  {
   "cell_type": "code",
   "execution_count": 130,
   "metadata": {},
   "outputs": [],
   "source": [
    "def iterative_levenshtein(s, t, costs=(1, 1, 1)):\n",
    "    \"\"\" \n",
    "        iterative_levenshtein(s, t) -> ldist\n",
    "        ldist is the Levenshtein distance between the strings \n",
    "        s and t.\n",
    "        For all i and j, dist[i,j] will contain the Levenshtein \n",
    "        distance between the first i characters of s and the \n",
    "        first j characters of t\n",
    "        \n",
    "        costs: a tuple or a list with three integers (d, i, s)\n",
    "               where d defines the costs for a deletion\n",
    "                     i defines the costs for an insertion and\n",
    "                     s defines the costs for a substitution\n",
    "    \"\"\"\n",
    "\n",
    "    rows = len(s)+1\n",
    "    cols = len(t)+1\n",
    "    deletes, inserts, substitutes = costs\n",
    "    \n",
    "    dist = [[0 for x in range(cols)] for x in range(rows)]\n",
    "\n",
    "    # source prefixes can be transformed into empty strings \n",
    "    # by deletions:\n",
    "    for row in range(1, rows):\n",
    "        dist[row][0] = row * deletes\n",
    "\n",
    "    # target prefixes can be created from an empty source string\n",
    "    # by inserting the characters\n",
    "    for col in range(1, cols):\n",
    "        dist[0][col] = col * inserts\n",
    "        \n",
    "    for col in range(1, cols):\n",
    "        for row in range(1, rows):\n",
    "            if s[row-1] == t[col-1]:\n",
    "                cost = 0\n",
    "            else:\n",
    "                cost = substitutes\n",
    "            dist[row][col] = min(dist[row-1][col] + deletes,\n",
    "                                 dist[row][col-1] + inserts,\n",
    "                                 dist[row-1][col-1] + cost) # substitution\n",
    "\n",
    "    # for r in range(rows):\n",
    "    #     print(dist[r])\n",
    "    \n",
    " \n",
    "    return dist[row][col]"
   ]
  },
  {
   "cell_type": "code",
   "execution_count": 174,
   "metadata": {
    "tags": [
     "outputPrepend"
    ]
   },
   "outputs": [
    {
     "output_type": "stream",
     "name": "stdout",
     "text": "LP Exact Accuracy: 0.7%\n"
    }
   ],
   "source": [
    "predictions_path = 'predictions_phi0_nzvd.full.csv'\n",
    "trues_path = 'data/processed/nzvd/test_annotations.csv'\n",
    "lps_path = 'data/raw/nzvd/test_labels.csv'\n",
    "classes_path = 'data/processed/classes.csv'\n",
    "colors_path = 'data/processed/colors.csv'\n",
    "\n",
    "# get class data\n",
    "classes = [x[0] for x in pd.read_csv(classes_path, header=None).values]\n",
    "colors = [x[0] for x in pd.read_csv(colors_path, header=None).values]\n",
    "class_labels = {x:i for i,x in enumerate(classes)}\n",
    "color_labels = {x:i for i,x in enumerate(colors)}\n",
    "\n",
    "# get y_pred and y_true\n",
    "preds = pd.read_csv(predictions_path)\n",
    "preds = preds.fillna('') # fill NaN values with empty string\n",
    "lps = pd.read_csv(lps_path)[['lp-string']].T.squeeze()\n",
    "lps = lps.str.strip() # trim leading spaces\n",
    "trues = pd.read_csv(trues_path, header=None)\n",
    "trues.columns = ['file', 't', 'l', 'h', 'w', 'body', 'color']\n",
    "\n",
    "# format y_true better\n",
    "trues = trues.sort_values(by=['file'])\n",
    "trues.reset_index(inplace=True)\n",
    "trues = trues.assign(lp=lps)\n",
    "\n",
    "# license plates\n",
    "lp_true, lp_pred = trues[['lp']].values.squeeze(), preds[['lp']].values.squeeze()\n",
    "lp_acc = np.mean([lp_true == lp_pred])\n",
    "print(\"LP Exact Accuracy:\", f'{lp_acc}%', )\n",
    "\n",
    "# body\n",
    "\n",
    "\n",
    "\n",
    "# levenshtein computational complexity too high (O(mn))\n",
    "# should look into a textual IOU instead"
   ]
  },
  {
   "cell_type": "code",
   "execution_count": 173,
   "metadata": {},
   "outputs": [
    {
     "output_type": "stream",
     "name": "stdout",
     "text": "3.5\n"
    }
   ],
   "source": [
    "# example implementation of a O(n) textual similarity comparison IOU\n",
    "# use mean so it is symmetrical\n",
    "a = 'abcd'\n",
    "b = 'def'\n",
    "s = set(a + b + '')\n",
    "i1 = sum([1 for char in a if char in s])\n",
    "i2 = sum([1 for char in b if char in s])\n",
    "m = np.mean([i1, i2])"
   ]
  },
  {
   "cell_type": "code",
   "execution_count": null,
   "metadata": {},
   "outputs": [],
   "source": []
  }
 ],
 "metadata": {
  "language_info": {
   "codemirror_mode": {
    "name": "ipython",
    "version": 3
   },
   "file_extension": ".py",
   "mimetype": "text/x-python",
   "name": "python",
   "nbconvert_exporter": "python",
   "pygments_lexer": "ipython3",
   "version": "3.7.6-final"
  },
  "orig_nbformat": 2,
  "kernelspec": {
   "name": "python37664bitanaconda3virtualenvc7eb3ab0ecc14188bea54639f0fd4b91",
   "display_name": "Python 3.7.6 64-bit ('anaconda3': virtualenv)"
  }
 },
 "nbformat": 4,
 "nbformat_minor": 2
}