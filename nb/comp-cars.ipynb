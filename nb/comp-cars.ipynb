{
 "cells": [
  {
   "cell_type": "code",
   "execution_count": 23,
   "metadata": {
    "tags": []
   },
   "outputs": [],
   "source": [
    "import os\n",
    "os.chdir('/Users/nick/Documents/school/research/EfficientLPR')\n",
    "from scipy.io import loadmat\n",
    "import numpy as np\n",
    "from cv2 import cv2\n",
    "import matplotlib.pyplot as plt\n",
    "import pandas as pd"
   ]
  },
  {
   "cell_type": "code",
   "execution_count": 22,
   "metadata": {
    "tags": []
   },
   "outputs": [],
   "source": [
    "# SURVEILENCE (COLOR) DATA\n",
    "in_dir = 'data/raw/comp-cars'\n",
    "surv_dir = in_dir + '/sv_data'\n",
    "label_mat = loadmat(surv_dir + '/color_list.mat')[\"color_list\"]\n",
    "\n",
    "colors = [\"black\", \"white\", \"red\", \"yellow\", \"blue\", \"green\", \"purple\", \"brown\", \"champagne\", \"silver\"]\n",
    "\n",
    "# color_labels: [n, [fname, color]]\n",
    "color_annos = [[x[0][0], colors[x[1][0][0]]] for x in label_mat if not x[1][0][0] == -1 ] # omit unrecognized colors\n",
    "color_annos = np.array(color_annos)\n",
    "\n",
    "# split train and test\n",
    "split = int(color_annos.shape[0] * 0.8)\n",
    "indices = np.random.permutation(color_annos.shape[0])\n",
    "train_idx, test_idx = indices[:split], indices[split:]\n",
    "train_annos, test_annos = color_annos[train_idx], color_annos[test_idx]\n",
    "# val/train split\n",
    "split = int(train_annos.shape[0] * 0.9)\n",
    "indices = np.random.permutation(train_annos.shape[0])\n",
    "train_idx, val_idx = indices[:split], indices[split:]\n",
    "train_annos, val_annos = train_annos[train_idx], train_annos[val_idx]\n",
    "pd.DataFrame(train_annos).to_csv(surv_dir + '/train_annotations.csv', header=None, index=None)\n",
    "pd.DataFrame(val_annos).to_csv(surv_dir + '/val_annotations.csv', header=None, index=None)\n",
    "pd.DataFrame(test_annos).to_csv(surv_dir + '/test_annotations.csv', header=None, index=None)\n",
    "\n",
    "color_out = np.hstack([np.expand_dims(colors,1), np.expand_dims(range(len(colors)), 1)])\n",
    "pd.DataFrame(color_out).to_csv(surv_dir + '/colors.csv', header=None, index=None)"
   ]
  },
  {
   "cell_type": "code",
   "execution_count": 18,
   "metadata": {
    "tags": []
   },
   "outputs": [],
   "source": [
    "# WEB DATA\n",
    "web_dir = in_dir + '/data'\n",
    "label_dir = web_dir + '/label'\n",
    "\n",
    "makes = [x[0][0] for x in loadmat(web_dir + '/misc/make_model_name.mat')[\"make_names\"]]\n",
    "makes[makes.index('Lamorghini ')] = 'Lamborghini' # fix type in DS\n",
    "\n",
    "side_view_id = 3\n",
    "\n",
    "def get_annos(annos):\n",
    "    for make_id in sorted(os.listdir(label_dir)):\n",
    "        make_dir = '{}/{}'.format(label_dir, make_id)\n",
    "\n",
    "        for model_id in sorted(os.listdir(make_dir)):\n",
    "            model_path = '{}/{}'.format(make_dir, model_id)\n",
    "\n",
    "            for year in sorted(os.listdir(model_path)):\n",
    "                leaf_path = '{}/{}'.format(model_path, year)\n",
    "                \n",
    "                for fname in sorted(os.listdir(leaf_path)):\n",
    "                    file_path = '{}/{}'.format(leaf_path, fname)\n",
    "                    with open(file_path, 'r') as f:\n",
    "                        file_data = f.read().strip().split('\\n')\n",
    "                        viewpoint_id = int(file_data[0])\n",
    "                        bbox = file_data[2].split(' ')\n",
    "                        if not (viewpoint_id == side_view_id):\n",
    "                            annos.append([\"image/\" + \"/\".join(file_path[:-4].split(\"/\")[5:]) + '.jpg', bbox[0], bbox[1], bbox[2], bbox[3], makes[int(make_id)-1]])\n",
    "    return annos\n",
    "# annos: [n, [fname (of image), make, year, x1, y1, x2, y2]]\n",
    "annos = np.array(get_annos([]))\n",
    "annos = np.hstack([annos, np.repeat('black', annos.shape[0]).reshape(-1,1)]) # add dummy color column"
   ]
  },
  {
   "cell_type": "code",
   "execution_count": 19,
   "metadata": {
    "tags": []
   },
   "outputs": [],
   "source": [
    "np.random.seed(1)\n",
    "# split train and test\n",
    "split = int(annos.shape[0] * 0.8) # 80/20 split\n",
    "indices = np.random.permutation(annos.shape[0])\n",
    "train_idx, test_idx = indices[:split], indices[split:]\n",
    "train_annos, test_annos = annos[train_idx], annos[test_idx]\n",
    "# split train and val\n",
    "split = int(train_annos.shape[0]*0.9)\n",
    "indices = np.random.permutation(train_annos.shape[0])\n",
    "train_idx, val_idx = indices[:split], indices[split:]\n",
    "train_annos, val_annos = train_annos[train_idx], train_annos[val_idx]\n",
    "pd.DataFrame(train_annos).to_csv(web_dir + '/train_annotations.csv', header=None, index=None)\n",
    "pd.DataFrame(val_annos).to_csv(web_dir + '/val_annotations.csv', header=None, index=None)\n",
    "pd.DataFrame(test_annos).to_csv(web_dir + '/test_annotations.csv', header=None, index=None)\n",
    "\n",
    "makes_out = np.hstack([np.expand_dims(makes,1), np.expand_dims(range(len(makes)),1)])\n",
    "pd.DataFrame(makes_out).to_csv(web_dir + '/makes.csv', header=None, index=None)"
   ]
  }
 ],
 "metadata": {
  "language_info": {
   "codemirror_mode": {
    "name": "ipython",
    "version": 3
   },
   "file_extension": ".py",
   "mimetype": "text/x-python",
   "name": "python",
   "nbconvert_exporter": "python",
   "pygments_lexer": "ipython3",
   "version": "3.7.6-final"
  },
  "orig_nbformat": 2,
  "kernelspec": {
   "name": "python37664bitanaconda3virtualenvc7eb3ab0ecc14188bea54639f0fd4b91",
   "display_name": "Python 3.7.6 64-bit ('anaconda3': virtualenv)"
  }
 },
 "nbformat": 4,
 "nbformat_minor": 2
}