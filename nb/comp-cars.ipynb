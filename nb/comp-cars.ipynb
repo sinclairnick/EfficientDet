{
 "cells": [
  {
   "cell_type": "code",
   "execution_count": null,
   "metadata": {},
   "outputs": [],
   "source": [
    "import os\n",
    "os.chdir('/Users/nick/Documents/school/research/EfficientLPR')\n",
    "from scipy.io import loadmat\n",
    "import numpy as np"
   ]
  },
  {
   "cell_type": "code",
   "execution_count": null,
   "metadata": {
    "tags": []
   },
   "outputs": [],
   "source": [
    "in_dir = 'data/raw/comp-cars'\n",
    "label_mat = loadmat(in_dir + '/sv_make_model_name')"
   ]
  },
  {
   "cell_type": "code",
   "execution_count": 33,
   "metadata": {
    "tags": []
   },
   "outputs": [
    {
     "output_type": "stream",
     "name": "stdout",
     "text": "[['data/raw/comp-cars/data/label/1/1101/2011/07b90decb92ba6' 'BAC' '2011'\n  '124' '33' '674' '480']\n ['data/raw/comp-cars/data/label/1/1101/2011/2272c7d324cf79' 'BAC' '2011'\n  '52' '153' '849' '506']\n ['data/raw/comp-cars/data/label/1/1101/2011/3a62131af5fe8e' 'BAC' '2011'\n  '85' '107' '682' '469']\n ['data/raw/comp-cars/data/label/1/1101/2011/5133ca181b82af' 'BAC' '2011'\n  '91' '23' '759' '551']\n ['data/raw/comp-cars/data/label/1/1101/2011/6632ec1c2f7f87' 'BAC' '2011'\n  '58' '134' '707' '504']\n ['data/raw/comp-cars/data/label/1/1101/2011/67c264ccb6f982' 'BAC' '2011'\n  '41' '152' '868' '523']\n ['data/raw/comp-cars/data/label/1/1101/2011/7a6282504fdd2c' 'BAC' '2011'\n  '114' '29' '684' '503']\n ['data/raw/comp-cars/data/label/1/1101/2011/8a8a9bc65fab0b' 'BAC' '2011'\n  '89' '108' '692' '504']\n ['data/raw/comp-cars/data/label/1/1101/2011/8cef236c1c21c4' 'BAC' '2011'\n  '43' '153' '871' '433']\n ['data/raw/comp-cars/data/label/1/1101/2011/916ce33e9be813' 'BAC' '2011'\n  '114' '70' '681' '530']\n ['data/raw/comp-cars/data/label/1/1101/2011/a2b94dda8e9630' 'BAC' '2011'\n  '22' '193' '877' '481']\n ['data/raw/comp-cars/data/label/1/1101/2011/a476ea5838ce2b' 'BAC' '2011'\n  '118' '29' '672' '513']\n ['data/raw/comp-cars/data/label/1/1101/2011/adb149361578ad' 'BAC' '2011'\n  '88' '64' '699' '508']\n ['data/raw/comp-cars/data/label/1/1101/2011/b19e774ce016a1' 'BAC' '2011'\n  '37' '137' '877' '557']\n ['data/raw/comp-cars/data/label/1/1101/2011/c88f6cc28d05a9' 'BAC' '2011'\n  '99' '116' '705' '506']\n ['data/raw/comp-cars/data/label/1/1101/2011/cf56202f4dc511' 'BAC' '2011'\n  '64' '111' '841' '507']\n ['data/raw/comp-cars/data/label/1/1101/2011/dd8d3efe9b0695' 'BAC' '2011'\n  '59' '167' '713' '470']\n ['data/raw/comp-cars/data/label/1/1101/2011/f0a3db2b9f8be9' 'BAC' '2011'\n  '58' '132' '761' '489']\n ['data/raw/comp-cars/data/label/1/1102/2011/12226a5418fcff' 'BAC' '2011'\n  '122' '84' '648' '512']\n ['data/raw/comp-cars/data/label/1/1102/2011/59b4911904c8d3' 'BAC' '2011'\n  '109' '204' '677' '453']\n ['data/raw/comp-cars/data/label/1/1102/2011/602de0afa91b7e' 'BAC' '2011'\n  '125' '177' '669' '498']\n ['data/raw/comp-cars/data/label/1/1102/2011/62305978fd280c' 'BAC' '2011'\n  '86' '194' '716' '493']\n ['data/raw/comp-cars/data/label/1/1102/2011/919ff82bf6d72e' 'BAC' '2011'\n  '136' '127' '673' '466']\n ['data/raw/comp-cars/data/label/1/1102/2011/be2d8dec502487' 'BAC' '2011'\n  '133' '87' '657' '513']\n ['data/raw/comp-cars/data/label/1/1102/2011/c39121138aedfe' 'BAC' '2011'\n  '124' '182' '676' '475']\n ['data/raw/comp-cars/data/label/1/1102/2011/ea3f1074452fc6' 'BAC' '2011'\n  '128' '118' '659' '463']\n ['data/raw/comp-cars/data/label/1/1102/2011/f5e658f82a0b2c' 'BAC' '2011'\n  '85' '178' '685' '480']\n ['data/raw/comp-cars/data/label/1/1102/2012/2b7e22718a70b2' 'BAC' '2012'\n  '76' '147' '862' '499']\n ['data/raw/comp-cars/data/label/1/1102/2012/4a12e2acda627c' 'BAC' '2012'\n  '36' '122' '879' '579']\n ['data/raw/comp-cars/data/label/1/1102/2012/88033a30c74ec0' 'BAC' '2012'\n  '12' '173' '899' '570']\n ['data/raw/comp-cars/data/label/1/1103/2011/02a39da5d64292' 'BAC' '2011'\n  '115' '46' '748' '527']\n ['data/raw/comp-cars/data/label/1/1103/2011/036371640e5a26' 'BAC' '2011'\n  '37' '133' '874' '578']\n ['data/raw/comp-cars/data/label/1/1103/2011/038d44fa75d4a3' 'BAC' '2011'\n  '135' '53' '662' '473']\n ['data/raw/comp-cars/data/label/1/1103/2011/0839000a8ad8c8' 'BAC' '2011'\n  '143' '223' '696' '473']\n ['data/raw/comp-cars/data/label/1/1103/2011/13d4ee0d87216b' 'BAC' '2011'\n  '148' '220' '684' '480']\n ['data/raw/comp-cars/data/label/1/1103/2011/1a181baee56de8' 'BAC' '2011'\n  '73' '139' '745' '467']\n ['data/raw/comp-cars/data/label/1/1103/2011/274d745c220d62' 'BAC' '2011'\n  '137' '229' '686' '491']\n ['data/raw/comp-cars/data/label/1/1103/2011/279e8cfa89bdec' 'BAC' '2011'\n  '113' '277' '708' '475']\n ['data/raw/comp-cars/data/label/1/1103/2011/5489648f0d838c' 'BAC' '2011'\n  '84' '55' '731' '499']\n ['data/raw/comp-cars/data/label/1/1103/2011/5a3522a1e25443' 'BAC' '2011'\n  '49' '78' '742' '478']\n ['data/raw/comp-cars/data/label/1/1103/2011/61a3dc35238e0e' 'BAC' '2011'\n  '144' '119' '645' '479']\n ['data/raw/comp-cars/data/label/1/1103/2011/668e666e188885' 'BAC' '2011'\n  '167' '129' '646' '477']\n ['data/raw/comp-cars/data/label/1/1103/2011/67fa87b2441e35' 'BAC' '2011'\n  '34' '141' '869' '544']\n ['data/raw/comp-cars/data/label/1/1103/2011/74a457463564f3' 'BAC' '2011'\n  '140' '256' '652' '481']\n ['data/raw/comp-cars/data/label/1/1103/2011/80c5e601281a07' 'BAC' '2011'\n  '76' '36' '699' '496']\n ['data/raw/comp-cars/data/label/1/1103/2011/8b56ed5a76c5ec' 'BAC' '2011'\n  '119' '287' '680' '465']\n ['data/raw/comp-cars/data/label/1/1103/2011/8d19ad7c3cc531' 'BAC' '2011'\n  '148' '234' '675' '475']\n ['data/raw/comp-cars/data/label/1/1103/2011/a2221f08e0383e' 'BAC' '2011'\n  '144' '235' '685' '478']\n ['data/raw/comp-cars/data/label/1/1103/2011/a52cf3643b839f' 'BAC' '2011'\n  '151' '80' '650' '470']\n ['data/raw/comp-cars/data/label/1/1103/2011/a5bbdb6b7bf8c7' 'BAC' '2011'\n  '140' '70' '664' '509']\n ['data/raw/comp-cars/data/label/1/1103/2011/d2d9f60f419039' 'BAC' '2011'\n  '84' '103' '694' '454']\n ['data/raw/comp-cars/data/label/1/1103/2013/451aaa83c09e76' 'BAC' '2013'\n  '62' '192' '760' '428']\n ['data/raw/comp-cars/data/label/1/1103/2013/4dc25a3af47177' 'BAC' '2013'\n  '106' '135' '715' '452']\n ['data/raw/comp-cars/data/label/1/1103/2013/d2db1ea26ab012' 'BAC' '2013'\n  '130' '58' '683' '519']\n ['data/raw/comp-cars/data/label/1/1103/2015/066f48aad29a7a' 'BAC' '2015'\n  '9' '197' '784' '482']\n ['data/raw/comp-cars/data/label/1/1103/2015/32127e81a63285' 'BAC' '2015'\n  '10' '164' '789' '509']\n ['data/raw/comp-cars/data/label/1/1103/2015/553dd8b5b5c76a' 'BAC' '2015'\n  '154' '209' '761' '528']\n ['data/raw/comp-cars/data/label/1/1103/2015/aa824e6c84e019' 'BAC' '2015'\n  '46' '120' '774' '484']\n ['data/raw/comp-cars/data/label/1/1104/2010/37b1b3a2bc39db' 'BAC' '2010'\n  '17' '154' '894' '543']\n ['data/raw/comp-cars/data/label/1/1104/2010/49b0c037f7cbe1' 'BAC' '2010'\n  '12' '149' '896' '523']\n ['data/raw/comp-cars/data/label/1/1105/2011/1665cd6b2013b5' 'BAC' '2011'\n  '45' '266' '864' '561']\n ['data/raw/comp-cars/data/label/1/1105/2011/33587cdee4a967' 'BAC' '2011'\n  '81' '197' '831' '591']\n ['data/raw/comp-cars/data/label/1/1105/2011/40e0a243c66559' 'BAC' '2011'\n  '84' '181' '832' '571']\n ['data/raw/comp-cars/data/label/1/1105/2011/5d5a7519b69352' 'BAC' '2011'\n  '50' '275' '861' '564']\n ['data/raw/comp-cars/data/label/1/1105/2011/8dfa76acfc5319' 'BAC' '2011'\n  '43' '248' '862' '504']\n ['data/raw/comp-cars/data/label/1/1105/2011/cdff7b07e9a467' 'BAC' '2011'\n  '36' '184' '888' '569']\n ['data/raw/comp-cars/data/label/1/1105/2011/f3ef190cd3b733' 'BAC' '2011'\n  '31' '152' '878' '567']\n ['data/raw/comp-cars/data/label/1/1106/2009/89e43e81fc82df' 'BAC' '2009'\n  '71' '161' '834' '518']\n ['data/raw/comp-cars/data/label/1/1106/2009/904478653c497a' 'BAC' '2009'\n  '45' '217' '867' '498']\n ['data/raw/comp-cars/data/label/1/1106/2009/bf8a93922ab42a' 'BAC' '2009'\n  '65' '137' '866' '514']\n ['data/raw/comp-cars/data/label/1/1106/2009/c678e70a71b7f1' 'BAC' '2009'\n  '67' '145' '847' '534']\n ['data/raw/comp-cars/data/label/1/1107/2010/132ebb1273d7d8' 'BAC' '2010'\n  '27' '140' '883' '516']\n ['data/raw/comp-cars/data/label/1/1107/2010/2ae457012751c7' 'BAC' '2010'\n  '19' '169' '883' '596']\n ['data/raw/comp-cars/data/label/1/1107/2010/67fbe79aa59b42' 'BAC' '2010'\n  '28' '121' '882' '520']\n ['data/raw/comp-cars/data/label/1/1107/2011/0c8b0936dca50f' 'BAC' '2011'\n  '96' '124' '681' '452']\n ['data/raw/comp-cars/data/label/1/1107/2011/3cf2a52d8bf782' 'BAC' '2011'\n  '108' '135' '701' '455']\n ['data/raw/comp-cars/data/label/1/1107/2011/479ec03083aca8' 'BAC' '2011'\n  '60' '157' '694' '459']\n ['data/raw/comp-cars/data/label/1/1107/2011/81b72c79de4955' 'BAC' '2011'\n  '163' '138' '619' '463']\n ['data/raw/comp-cars/data/label/1/1107/2011/84303536b864ce' 'BAC' '2011'\n  '164' '154' '643' '471']\n ['data/raw/comp-cars/data/label/1/1107/2011/997671defb0922' 'BAC' '2011'\n  '93' '109' '709' '494']\n ['data/raw/comp-cars/data/label/1/1107/2011/a2c58fb8d83ac4' 'BAC' '2011'\n  '57' '167' '728' '410']\n ['data/raw/comp-cars/data/label/1/1107/2011/b3ef010f41cdf8' 'BAC' '2011'\n  '94' '145' '684' '448']\n ['data/raw/comp-cars/data/label/1/1107/2011/e14ee7975850e1' 'BAC' '2011'\n  '71' '98' '741' '505']\n ['data/raw/comp-cars/data/label/1/1107/2011/f289f8c3d427c3' 'BAC' '2011'\n  '77' '154' '701' '459']\n ['data/raw/comp-cars/data/label/1/1107/2011/f31b343ec3b50c' 'BAC' '2011'\n  '69' '153' '698' '466']\n ['data/raw/comp-cars/data/label/1/1107/2011/fa926e82f67484' 'BAC' '2011'\n  '130' '105' '661' '457']\n ['data/raw/comp-cars/data/label/1/1108/2010/23367800704bfb' 'BAC' '2010'\n  '25' '244' '879' '487']\n ['data/raw/comp-cars/data/label/1/1108/2010/c88e62cf220fbe' 'BAC' '2010'\n  '18' '130' '893' '534']\n ['data/raw/comp-cars/data/label/1/1108/2010/d6d88146f64747' 'BAC' '2010'\n  '51' '259' '855' '587']\n ['data/raw/comp-cars/data/label/1/1108/2010/e3fd8a498f7a30' 'BAC' '2010'\n  '22' '159' '890' '518']\n ['data/raw/comp-cars/data/label/1/1109/2011/0e33c11fbe2cf9' 'BAC' '2011'\n  '54' '144' '856' '609']\n ['data/raw/comp-cars/data/label/1/1109/2011/291c96170e6653' 'BAC' '2011'\n  '51' '125' '846' '596']\n ['data/raw/comp-cars/data/label/1/1109/2011/2d3c284be7e25a' 'BAC' '2011'\n  '67' '156' '842' '610']\n ['data/raw/comp-cars/data/label/1/1109/2011/415f18523c35ff' 'BAC' '2011'\n  '63' '193' '856' '493']\n ['data/raw/comp-cars/data/label/1/1109/2011/57da0f687eec26' 'BAC' '2011'\n  '55' '118' '858' '585']\n ['data/raw/comp-cars/data/label/1/1109/2011/bc43e523c20b76' 'BAC' '2011'\n  '26' '233' '889' '558']\n ['data/raw/comp-cars/data/label/1/1109/2011/f8eb2e897646df' 'BAC' '2011'\n  '57' '125' '862' '596']\n ['data/raw/comp-cars/data/label/1/1109/2011/fef8a5b1fd7169' 'BAC' '2011'\n  '63' '79' '867' '586']\n ['data/raw/comp-cars/data/label/1/1110/2011/0a98dbebbf6a74' 'BAC' '2011'\n  '75' '120' '741' '482']\n ['data/raw/comp-cars/data/label/1/1110/2011/38293ea66fcd61' 'BAC' '2011'\n  '26' '201' '742' '496']\n ['data/raw/comp-cars/data/label/1/1110/2011/51acc6cf38c6f2' 'BAC' '2011'\n  '56' '158' '697' '535']\n ['data/raw/comp-cars/data/label/1/1110/2011/81cd6b67b42822' 'BAC' '2011'\n  '78' '121' '717' '500']\n ['data/raw/comp-cars/data/label/1/1110/2011/85fbb99410b5b7' 'BAC' '2011'\n  '113' '59' '696' '540']\n ['data/raw/comp-cars/data/label/1/1110/2011/e5eb4669b7d064' 'BAC' '2011'\n  '105' '120' '714' '502']\n ['data/raw/comp-cars/data/label/1/1110/2012/273221bcdde892' 'BAC' '2012'\n  '49' '102' '883' '555']\n ['data/raw/comp-cars/data/label/1/1110/2012/4bf9a6485bd0e8' 'BAC' '2012'\n  '56' '160' '854' '453']\n ['data/raw/comp-cars/data/label/1/1110/2012/9ceef5d159b81c' 'BAC' '2012'\n  '92' '134' '799' '560']\n ['data/raw/comp-cars/data/label/1/1110/2012/9d7df256384326' 'BAC' '2012'\n  '91' '139' '804' '481']\n ['data/raw/comp-cars/data/label/1/1110/2012/bf4e7044fb408f' 'BAC' '2012'\n  '74' '81' '828' '447']\n ['data/raw/comp-cars/data/label/1/1110/2012/c03223d5aa37f7' 'BAC' '2012'\n  '49' '15' '851' '470']\n ['data/raw/comp-cars/data/label/1/1110/2012/e130c0a674dc0c' 'BAC' '2012'\n  '154' '51' '724' '524']\n ['data/raw/comp-cars/data/label/1/1110/2012/e6e7f31a98a43e' 'BAC' '2012'\n  '35' '147' '874' '458']\n ['data/raw/comp-cars/data/label/1/1110/2012/ff1db6eb99b9f5' 'BAC' '2012'\n  '92' '166' '810' '560']\n ['data/raw/comp-cars/data/label/1/1112/2013/032f78c3ae5c87' 'BAC' '2013'\n  '160' '233' '737' '551']\n ['data/raw/comp-cars/data/label/1/1112/2013/16179e5d599552' 'BAC' '2013'\n  '106' '143' '666' '418']\n ['data/raw/comp-cars/data/label/1/1112/2013/1ae9f749a938af' 'BAC' '2013'\n  '53' '56' '818' '613']\n ['data/raw/comp-cars/data/label/1/1112/2013/2f33f81b8d9f85' 'BAC' '2013'\n  '149' '140' '646' '403']\n ['data/raw/comp-cars/data/label/1/1112/2013/4e5f8ddc7edd1f' 'BAC' '2013'\n  '136' '148' '656' '430']\n ['data/raw/comp-cars/data/label/1/1112/2013/5551a55b9fc425' 'BAC' '2013'\n  '83' '210' '813' '567']\n ['data/raw/comp-cars/data/label/1/1112/2013/5ce16779bf61ba' 'BAC' '2013'\n  '183' '221' '807' '557']\n ['data/raw/comp-cars/data/label/1/1112/2013/6c95838af26906' 'BAC' '2013'\n  '125' '207' '766' '540']\n ['data/raw/comp-cars/data/label/1/1112/2013/6ca7eece3f17e2' 'BAC' '2013'\n  '220' '281' '629' '513']\n ['data/raw/comp-cars/data/label/1/1112/2013/78a042032da977' 'BAC' '2013'\n  '149' '136' '494' '338']\n ['data/raw/comp-cars/data/label/1/1112/2013/e50f5ef1335521' 'BAC' '2013'\n  '145' '166' '661' '446']\n ['data/raw/comp-cars/data/label/1/1112/2013/eff4ffbbf122d6' 'BAC' '2013'\n  '92' '20' '647' '423']\n ['data/raw/comp-cars/data/label/1/1113/2012/1734863b5d9d68' 'BAC' '2012'\n  '65' '253' '854' '556']\n ['data/raw/comp-cars/data/label/1/1113/2012/2ae37e0a36fc9b' 'BAC' '2012'\n  '18' '59' '883' '539']\n ['data/raw/comp-cars/data/label/1/1113/2012/423d31006e3fa3' 'BAC' '2012'\n  '103' '177' '796' '550']\n ['data/raw/comp-cars/data/label/1/1113/2012/5699cdbb3cc1f5' 'BAC' '2012'\n  '37' '194' '875' '626']\n ['data/raw/comp-cars/data/label/1/1113/2012/5c496936e24eda' 'BAC' '2012'\n  '54' '158' '834' '603']\n ['data/raw/comp-cars/data/label/1/1113/2012/904c53eeb1238c' 'BAC' '2012'\n  '71' '181' '818' '605']\n ['data/raw/comp-cars/data/label/1/1113/2012/ca5f4bc935c450' 'BAC' '2012'\n  '23' '174' '892' '510']\n ['data/raw/comp-cars/data/label/1/1113/2012/f034a0e23f2a1e' 'BAC' '2012'\n  '74' '158' '821' '577']]\n"
    }
   ],
   "source": [
    "# web photos\n",
    "in_dir = 'data/raw/comp-cars/data'\n",
    "label_dir = in_dir + '/label'\n",
    "\n",
    "makes = [x[0][0] for x in loadmat(in_dir + '/misc/make_model_name.mat')[\"make_names\"]]\n",
    "\n",
    "side_view_id = 4\n",
    "\n",
    "# will have columns [fname (w/o ext), make, year, x1, y2, x2, y2]\n",
    "annos = []\n",
    "\n",
    "for make_id in sorted(os.listdir(label_dir))[:1]:\n",
    "    make_dir = f'{label_dir}/{make_id}'\n",
    "    \n",
    "    for model_id in sorted(os.listdir(make_dir)):\n",
    "        model_path = f'{make_dir}/{model_id}'\n",
    "    \n",
    "        for year in sorted(os.listdir(model_path)):\n",
    "            leaf_path = f'{model_path}/{year}'\n",
    "            for fname in sorted(os.listdir(leaf_path)):\n",
    "                file_path = f'{leaf_path}/{fname}'\n",
    "                with open(file_path, 'r') as f:\n",
    "                    file_data = f.read().strip().split('\\n')\n",
    "                    viewpoint_id = file_data[0]\n",
    "                    bbox = file_data[2].split(' ')\n",
    "                    if not (viewpoint_id == side_view_id):\n",
    "                        annos.append([file_path[:-4], makes[int(make_id)], year, *bbox ])\n",
    "print(np.array(annos))"
   ]
  }
 ],
 "metadata": {
  "language_info": {
   "codemirror_mode": {
    "name": "ipython",
    "version": 3
   },
   "file_extension": ".py",
   "mimetype": "text/x-python",
   "name": "python",
   "nbconvert_exporter": "python",
   "pygments_lexer": "ipython3",
   "version": "3.7.6-final"
  },
  "orig_nbformat": 2,
  "kernelspec": {
   "name": "python37664bitanaconda3virtualenvc7eb3ab0ecc14188bea54639f0fd4b91",
   "display_name": "Python 3.7.6 64-bit ('anaconda3': virtualenv)"
  }
 },
 "nbformat": 4,
 "nbformat_minor": 2
}